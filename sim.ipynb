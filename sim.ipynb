{
 "cells": [
  {
   "cell_type": "code",
   "execution_count": 47,
   "id": "5efd6367-fcdc-484d-80b6-8d3b7474fbe8",
   "metadata": {},
   "outputs": [],
   "source": [
    "import matplotlib.pyplot as plt\n",
    "import numpy as np\n",
    "from qutip import Qobj, sigmax"
   ]
  },
  {
   "cell_type": "code",
   "execution_count": 53,
   "id": "e93824ba-b053-4d92-9877-95eff8608b37",
   "metadata": {},
   "outputs": [],
   "source": [
    "# constants\n",
    "gamma_e = 5.25e-6  # occupation-number loss rate to |g>\n",
    "gamma_f = 0.25e-6  # decay rate to |e>\n",
    "# omega_d = ?  # drive frequency\n",
    "# omega_q = ?  # transition frequency between |e> and |f> levels\n",
    "J = gamma_e / 4  # coupling strength?\n",
    "Delta = 0.1  # detuning"
   ]
  },
  {
   "cell_type": "code",
   "execution_count": 54,
   "id": "e7220166-c421-4e59-a990-fa2578d4b103",
   "metadata": {},
   "outputs": [],
   "source": [
    "# effective Hamiltonian\n",
    "H_eff = J * sigmax() + (Delta - 1j * gamma_e / 2) * Qobj([[1, 0], [0, 0]])"
   ]
  },
  {
   "cell_type": "code",
   "execution_count": 55,
   "id": "da1b9488-f1b3-4c9e-9ab6-ade0c0e85a47",
   "metadata": {},
   "outputs": [],
   "source": [
    "lambda_m, lambda_p = H_eff.eigenenergies()\n",
    "dlambda = lambda_p - lambda_m"
   ]
  },
  {
   "cell_type": "code",
   "execution_count": 56,
   "id": "101df5fc-35f1-4979-a663-3ddd27307af1",
   "metadata": {},
   "outputs": [
    {
     "data": {
      "text/plain": [
       "(0.10000000003445315-2.624999999095606e-06j)"
      ]
     },
     "execution_count": 56,
     "metadata": {},
     "output_type": "execute_result"
    }
   ],
   "source": [
    "dlambda"
   ]
  },
  {
   "cell_type": "code",
   "execution_count": 57,
   "id": "30b7b1a5-de26-462f-a092-02b0fe409cf5",
   "metadata": {},
   "outputs": [
    {
     "data": {
      "text/plain": [
       "(2.625000000904394e-06+0.09999999996554688j)"
      ]
     },
     "execution_count": 57,
     "metadata": {},
     "output_type": "execute_result"
    }
   ],
   "source": [
    "np.sqrt(4 * J**2 - (Delta - 1j * gamma_e / 2)**2)"
   ]
  },
  {
   "cell_type": "code",
   "execution_count": null,
   "id": "0c8f59f6-e43f-4b73-8290-c01bf91d1b24",
   "metadata": {},
   "outputs": [],
   "source": []
  }
 ],
 "metadata": {
  "kernelspec": {
   "display_name": "Python 3 (ipykernel)",
   "language": "python",
   "name": "python3"
  },
  "language_info": {
   "codemirror_mode": {
    "name": "ipython",
    "version": 3
   },
   "file_extension": ".py",
   "mimetype": "text/x-python",
   "name": "python",
   "nbconvert_exporter": "python",
   "pygments_lexer": "ipython3",
   "version": "3.11.0"
  }
 },
 "nbformat": 4,
 "nbformat_minor": 5
}
